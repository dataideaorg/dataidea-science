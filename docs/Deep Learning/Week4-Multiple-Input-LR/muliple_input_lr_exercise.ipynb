{
  "cells": [
    {
      "cell_type": "markdown",
      "metadata": {},
      "source": [
        "---\n",
        "title: Multiple Input LR Exercise\n",
        "author: Juma Shafara\n",
        "date: \"2024-08-29\"\n",
        "keywords: [data science, data analysis, programming, dataidea]\n",
        "description: Programming for Data Science is a subject we’ve designed to explore the various programming components of data science.\n",
        "---"
      ]
    },
    {
      "cell_type": "markdown",
      "metadata": {},
      "source": [
        "![Photo by DATAIDEA](../../assets/banner4.png)"
      ]
    },
    {
      "cell_type": "markdown",
      "metadata": {},
      "source": [
        "\n",
        "### Week 4: Multiple Input Linear Regression\n",
        "\n",
        "1. **Making Predictions in Multiple Linear Regression**\n",
        "   - **Exercise:** Implement a multiple input linear regression model to predict a target variable based on two or more input features. Train the model on synthetic data and evaluate its performance.\n",
        "\n",
        "2. **Training Multiple Linear Regression Models**\n",
        "   - **Exercise:** Train multiple linear regression models with different feature sets and compare their performance. Analyze how the inclusion or exclusion of features affects the model's predictions.\n",
        "\n",
        "3. **Multi-Target Linear Regression**\n",
        "   - **Exercise:** Extend your linear regression model to predict multiple target variables simultaneously. Create a dataset with multiple targets and train the model to predict all targets.\n",
        "\n",
        "<!-- Newsletter -->\n",
        "<div class=\"newsletter\">\n",
        "<div class=\"newsletter-heading\">\n",
        "<h4><i class=\"bi bi-info-circle-fill\"></i> Don't Miss Any Updates!</h4>\n",
        "</div>\n",
        "<div class=\"newsletter-body\">\n",
        "<p>\n",
        "Before the last question, I have a humble request, to be among the first to hear about future updates of the course materials, simply enter your email below, follow us on <a href=\"https://x.com/dataideaorg\"><i class=\"bi bi-twitter-x\"></i>\n",
        "(formally Twitter)</a>, or subscribe to our <a href=\"https://www.youtube.com/@dataidea-science\"><i class=\"bi bi-youtube\"></i> YouTube channel</a>.\n",
        "</p>\n",
        "<iframe class=\"newsletter-frame\" src=\"https://embeds.beehiiv.com/5fc7c425-9c7e-4e08-a514-ad6c22beee74?slim=true\" data-test-id=\"beehiiv-embed\" height=\"52\" frameborder=\"0\" scrolling=\"no\">\n",
        "</iframe>\n",
        "</div>\n",
        "</div>\n",
        "\n",
        "4. **Training Multiple Output Linear Regression Models**\n",
        "   - **Exercise:** Implement a model to handle multiple outputs (e.g., predicting multiple continuous variables). Train the model on a dataset with multiple output variables and assess its performance.\n"
      ]
    },
    {
      "cell_type": "markdown",
      "metadata": {},
      "source": [
        "<h2>What's on your mind? Put it in the comments!</h2>\n",
        "<script src=\"https://utteranc.es/client.js\"\n",
        "        repo=\"dataideaorg/dataidea-science\"\n",
        "        issue-term=\"pathname\"\n",
        "        theme=\"github-light\"\n",
        "        crossorigin=\"anonymous\"\n",
        "        async>\n",
        "</script>"
      ]
    }
  ],
  "metadata": {
    "language_info": {
      "name": "python"
    }
  },
  "nbformat": 4,
  "nbformat_minor": 2
}
