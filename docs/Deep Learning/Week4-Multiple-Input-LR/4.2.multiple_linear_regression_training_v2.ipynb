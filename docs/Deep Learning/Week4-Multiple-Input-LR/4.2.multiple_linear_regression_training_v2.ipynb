{
  "cells": [
    {
      "cell_type": "markdown",
      "id": "19090820-92bc-456e-ba5b-bb54df5e831e",
      "metadata": {},
      "source": [
        "---\n",
        "author: Juma Shafara\n",
        "date: \"2024-08-08\"\n",
        "title: Linear Regression Multiple Outputs\n",
        "keywords: [Training Two Parameter, Mini-Batch Gradient Decent, Training Two Parameter Mini-Batch Gradient Decent]\n",
        "description: In this lab, you will review how to make a prediction in several different ways by using PyTorch.\n",
        "---"
      ]
    },
    {
      "cell_type": "markdown",
      "metadata": {},
      "source": [
        "![Photo by DATAIDEA](../../assets/banner4.png)"
      ]
    },
    {
      "cell_type": "markdown",
      "id": "0b8e17b1-f1dc-44e9-b5dc-e12b0397fb55",
      "metadata": {},
      "source": [
        "<h2>Objective</h2><ul><li> How to create a complicated models using pytorch build in functions.</li></ul> \n"
      ]
    },
    {
      "cell_type": "markdown",
      "id": "e82ba9bd-d58c-4a35-9999-20b0d2b24722",
      "metadata": {},
      "source": [
        "<h2>Table of Contents</h2>\n",
        "<p>In this lab, you will create a model the PyTroch way. This will help you more complicated models.</p>\n",
        "\n",
        "<ul>\n",
        "    <li><a href=\"#Makeup_Data\">Make Some Data</a></li>\n",
        "    <li><a href=\"#Model_Cost\">Create the Model and Cost Function the PyTorch way</a></li>\n",
        "    <li><a href=\"#BGD\">Train the Model: Batch Gradient Descent</a></li>\n",
        "</ul>\n",
        "<p>Estimated Time Needed: <strong>20 min</strong></p>\n",
        "\n",
        "<hr>\n"
      ]
    },
    {
      "cell_type": "markdown",
      "metadata": {},
      "source": [
        "<!-- Newsletter -->\n",
        "<div class=\"newsletter\">\n",
        "<div class=\"newsletter-heading\">\n",
        "<h4><i class=\"bi bi-info-circle-fill\"></i> Don't Miss Any Updates!</h4>\n",
        "</div>\n",
        "<div class=\"newsletter-body\">\n",
        "<p>\n",
        "Before we continue, I have a humble request, to be among the first to hear about future updates of the course materials, simply enter your email below, follow us on <a href=\"https://x.com/dataideaorg\"><i class=\"bi bi-twitter-x\"></i>\n",
        "(formally Twitter)</a>, or subscribe to our <a href=\"https://www.youtube.com/@dataidea-science\"><i class=\"bi bi-youtube\"></i> YouTube channel</a>.\n",
        "</p>\n",
        "<iframe class=\"newsletter-frame\" src=\"https://embeds.beehiiv.com/5fc7c425-9c7e-4e08-a514-ad6c22beee74?slim=true\" data-test-id=\"beehiiv-embed\" height=\"52\" frameborder=\"0\" scrolling=\"no\">\n",
        "</iframe>\n",
        "</div>\n",
        "</div>"
      ]
    },
    {
      "cell_type": "markdown",
      "id": "c8bff00b-0e7c-46c7-9f4a-8ffe84eea231",
      "metadata": {},
      "source": [
        "<h2>Preparation</h2>\n"
      ]
    },
    {
      "cell_type": "markdown",
      "id": "4419f0b9-ab5d-4ee6-9eeb-1eb268ed38a5",
      "metadata": {},
      "source": [
        "We'll need the following libraries:\n"
      ]
    },
    {
      "cell_type": "code",
      "execution_count": 1,
      "id": "fc5c395d-9fc6-4b71-8b99-da1a9eeffe96",
      "metadata": {},
      "outputs": [],
      "source": [
        "# Import the libraries we need for this lab\n",
        "\n",
        "from torch import nn,optim\n",
        "import torch\n",
        "import numpy as np\n",
        "import matplotlib.pyplot as plt\n",
        "\n",
        "from mpl_toolkits.mplot3d import Axes3D\n",
        "from torch.utils.data import Dataset, DataLoader"
      ]
    },
    {
      "cell_type": "markdown",
      "id": "720fc8b0-8b17-4a78-a019-e3ba4af4ed88",
      "metadata": {},
      "source": [
        "Set the random seed:\n"
      ]
    },
    {
      "cell_type": "code",
      "execution_count": 2,
      "id": "1e60a0ca-1fdb-49d4-840e-4b3a33457844",
      "metadata": {},
      "outputs": [
        {
          "data": {
            "text/plain": [
              "<torch._C.Generator at 0x7b084404eeb0>"
            ]
          },
          "execution_count": 2,
          "metadata": {},
          "output_type": "execute_result"
        }
      ],
      "source": [
        "# Set the random seed to 1. \n",
        "\n",
        "torch.manual_seed(1)"
      ]
    },
    {
      "cell_type": "markdown",
      "id": "67e21f52-464c-4526-aedb-168bbb70f5bd",
      "metadata": {},
      "source": [
        "Use this function for plotting: \n"
      ]
    },
    {
      "cell_type": "code",
      "execution_count": 3,
      "id": "39ea922d-977c-4625-87c9-74a1105d5b90",
      "metadata": {},
      "outputs": [],
      "source": [
        "# The function for plotting 2D\n",
        "\n",
        "def Plot_2D_Plane(model, dataset, n=0):\n",
        "    w1 = model.state_dict()['linear.weight'].numpy()[0][0]\n",
        "    w2 = model.state_dict()['linear.weight'].numpy()[0][1]\n",
        "    b = model.state_dict()['linear.bias'].numpy()\n",
        "\n",
        "    # Data\n",
        "    x1 = data_set.x[:, 0].view(-1, 1).numpy()\n",
        "    x2 = data_set.x[:, 1].view(-1, 1).numpy()\n",
        "    y = data_set.y.numpy()\n",
        "\n",
        "    # Make plane\n",
        "    X, Y = np.meshgrid(np.arange(x1.min(), x1.max(), 0.05), np.arange(x2.min(), x2.max(), 0.05))\n",
        "    yhat = w1 * X + w2 * Y + b\n",
        "\n",
        "    # Plotting\n",
        "    fig = plt.figure()\n",
        "    ax = fig.gca(projection='3d')\n",
        "\n",
        "    ax.plot(x1[:, 0], x2[:, 0], y[:, 0],'ro', label='y') # Scatter plot\n",
        "    \n",
        "    ax.plot_surface(X, Y, yhat) # Plane plot\n",
        "    \n",
        "    ax.set_xlabel('x1 ')\n",
        "    ax.set_ylabel('x2 ')\n",
        "    ax.set_zlabel('y')\n",
        "    plt.title('estimated plane iteration:' + str(n))\n",
        "    ax.legend()\n",
        "\n",
        "    plt.show()"
      ]
    },
    {
      "cell_type": "markdown",
      "id": "2415a253-eb8c-4894-a2c1-df50caeb0f72",
      "metadata": {},
      "source": [
        "<!--Empty Space for separating topics-->\n"
      ]
    },
    {
      "cell_type": "markdown",
      "id": "0b94fc26-8053-4787-9ba3-2eb125e722f7",
      "metadata": {},
      "source": [
        "<h2 id=\" #Makeup_Data\" > Make Some Data </h2>\n"
      ]
    },
    {
      "cell_type": "markdown",
      "id": "5466bed1-605d-4693-a481-4aed410ad69c",
      "metadata": {},
      "source": [
        "Create a dataset class with two-dimensional features:\n"
      ]
    },
    {
      "cell_type": "code",
      "execution_count": 4,
      "id": "ecea840c-7836-4894-a955-b05434d067b5",
      "metadata": {},
      "outputs": [],
      "source": [
        "# Create a 2D dataset\n",
        "\n",
        "class Data2D(Dataset):\n",
        "    \n",
        "    # Constructor\n",
        "    def __init__(self):\n",
        "        self.x = torch.zeros(20, 2)\n",
        "        self.x[:, 0] = torch.arange(-1, 1, 0.1)\n",
        "        self.x[:, 1] = torch.arange(-1, 1, 0.1)\n",
        "        self.w = torch.tensor([[1.0], [1.0]])\n",
        "        self.b = 1\n",
        "        self.f = torch.mm(self.x, self.w) + self.b    \n",
        "        self.y = self.f + 0.1 * torch.randn((self.x.shape[0],1))\n",
        "        self.len = self.x.shape[0]\n",
        "\n",
        "    # Getter\n",
        "    def __getitem__(self, index):          \n",
        "        return self.x[index], self.y[index]\n",
        "    \n",
        "    # Get Length\n",
        "    def __len__(self):\n",
        "        return self.len"
      ]
    },
    {
      "cell_type": "markdown",
      "id": "013598ce-c5b4-4460-a954-89ec3db69ba3",
      "metadata": {},
      "source": [
        "Create a dataset object:\n"
      ]
    },
    {
      "cell_type": "code",
      "execution_count": 5,
      "id": "725da211-b34f-4f19-8105-f1b64147146b",
      "metadata": {},
      "outputs": [],
      "source": [
        "# Create the dataset object\n",
        "\n",
        "data_set = Data2D()"
      ]
    },
    {
      "cell_type": "markdown",
      "id": "16740197-4fa8-456f-8209-fc405d5c8b92",
      "metadata": {},
      "source": [
        "<h2 id=\"Model_Cost\">Create the Model, Optimizer, and Total Loss Function (Cost)</h2>\n"
      ]
    },
    {
      "cell_type": "markdown",
      "id": "90200572-8831-4b7b-ba5c-c7ae9a06e929",
      "metadata": {},
      "source": [
        "Create a customized linear regression module: \n"
      ]
    },
    {
      "cell_type": "code",
      "execution_count": 6,
      "id": "908dba15-71da-4377-a8d4-b76bcd673719",
      "metadata": {},
      "outputs": [],
      "source": [
        "# Create a customized linear\n",
        "\n",
        "class LinearRegression(nn.Module):\n",
        "    \n",
        "    # Constructor\n",
        "    def __init__(self, input_size, output_size):\n",
        "        super(LinearRegression, self).__init__()\n",
        "        self.linear = nn.Linear(input_size, output_size)\n",
        "        \n",
        "    # Prediction\n",
        "    def forward(self, x):\n",
        "        yhat = self.linear(x)\n",
        "        return yhat"
      ]
    },
    {
      "cell_type": "markdown",
      "id": "92f77cfb-4b89-4cdc-b854-3a7f93f3c7ca",
      "metadata": {},
      "source": [
        "Create a model. Use two features: make the input size 2 and the output size 1: \n"
      ]
    },
    {
      "cell_type": "code",
      "execution_count": 7,
      "id": "06624a6a-c4f9-4f38-b5d5-30bc56b58693",
      "metadata": {},
      "outputs": [
        {
          "name": "stdout",
          "output_type": "stream",
          "text": [
            "The parameters:  [Parameter containing:\n",
            "tensor([[ 0.6209, -0.1178]], requires_grad=True), Parameter containing:\n",
            "tensor([0.3026], requires_grad=True)]\n"
          ]
        }
      ],
      "source": [
        "# Create the linear regression model and print the parameters\n",
        "\n",
        "model = LinearRegression(2,1)\n",
        "print(\"The parameters: \", list(model.parameters()))"
      ]
    },
    {
      "cell_type": "markdown",
      "id": "ffd731ad-8fe2-4a77-b4f0-1876159b88da",
      "metadata": {},
      "source": [
        "Create an optimizer  object. Set the learning rate to 0.1. <b>Don't forget to enter the model parameters in the constructor.</b>\n"
      ]
    },
    {
      "cell_type": "markdown",
      "id": "7f616da7-dbb1-4f67-9bea-0402dbc098a6",
      "metadata": {},
      "source": [
        "<img src=\"https://s3-api.us-geo.objectstorage.softlayer.net/cf-courses-data/CognitiveClass/DL0110EN/notebook_images%20/chapter2/2.6.2paramater_hate.png\" width=\"100\" alt=\"How the optimizer works\">\n"
      ]
    },
    {
      "cell_type": "code",
      "execution_count": 8,
      "id": "c0179814-94b2-4c9d-b076-ff4e15ed8972",
      "metadata": {},
      "outputs": [],
      "source": [
        "# Create the optimizer\n",
        "\n",
        "optimizer = optim.SGD(model.parameters(), lr=0.1)"
      ]
    },
    {
      "cell_type": "markdown",
      "id": "b38f206c-169b-482d-b185-b32a2aea7376",
      "metadata": {},
      "source": [
        "Create the criterion function that calculates the total loss or cost:\n"
      ]
    },
    {
      "cell_type": "code",
      "execution_count": 9,
      "id": "a10d2ca3-666f-41b3-b2da-e41575b4a233",
      "metadata": {},
      "outputs": [],
      "source": [
        "# Create the cost function\n",
        "\n",
        "criterion = nn.MSELoss()"
      ]
    },
    {
      "cell_type": "markdown",
      "id": "d9da45c2-be64-4205-9638-4ca52c3e6d4b",
      "metadata": {},
      "source": [
        "Create a data loader object. Set the batch_size equal to 2: \n"
      ]
    },
    {
      "cell_type": "code",
      "execution_count": 10,
      "id": "29a6f001-20d2-401a-86be-1e372a475cc1",
      "metadata": {},
      "outputs": [],
      "source": [
        "# Create the data loader\n",
        "\n",
        "train_loader = DataLoader(dataset=data_set, batch_size=2)"
      ]
    },
    {
      "cell_type": "markdown",
      "id": "8469b977-ec99-4b3a-a26a-60948c022e94",
      "metadata": {},
      "source": [
        "<!--Empty Space for separating topics-->\n"
      ]
    },
    {
      "cell_type": "markdown",
      "id": "bb0af7ab-26f6-4afc-8345-500713a70ed1",
      "metadata": {},
      "source": [
        "<h2 id=\"BGD\">Train the Model via Mini-Batch Gradient Descent</h2>\n"
      ]
    },
    {
      "cell_type": "markdown",
      "id": "8b7b0235-1c6a-4b03-869f-ed6ab538282c",
      "metadata": {},
      "source": [
        "Run 100 epochs of Mini-Batch Gradient Descent and store the total loss or cost for every iteration. Remember that this is an approximation of the true total loss or cost:\n"
      ]
    },
    {
      "cell_type": "code",
      "execution_count": 11,
      "id": "4ab60bcb-e22b-441f-8d8e-9627ce574120",
      "metadata": {},
      "outputs": [],
      "source": [
        "# Train the model\n",
        "\n",
        "LOSS = []\n",
        "# print(\"Before Training: \")\n",
        "# Plot_2D_Plane(model, data_set)   \n",
        "epochs = 100\n",
        "   \n",
        "def train_model(epochs):    \n",
        "    for epoch in range(epochs):\n",
        "        for x,y in train_loader:\n",
        "            yhat = model(x)\n",
        "            loss = criterion(yhat, y)\n",
        "            LOSS.append(loss.item())\n",
        "            optimizer.zero_grad()\n",
        "            loss.backward()\n",
        "            optimizer.step()     \n",
        "train_model(epochs)\n",
        "# print(\"After Training: \")\n",
        "# Plot_2D_Plane(model, data_set, epochs)  "
      ]
    },
    {
      "cell_type": "code",
      "execution_count": 12,
      "id": "7e01f40c-f76e-4a28-8fc3-571a637490f2",
      "metadata": {},
      "outputs": [
        {
          "data": {
            "text/plain": [
              "Text(0, 0.5, 'Cost/total loss ')"
            ]
          },
          "execution_count": 12,
          "metadata": {},
          "output_type": "execute_result"
        },
        {
          "data": {
            "image/png": "[encoded data removed]",
            "text/plain": [
              "<Figure size 640x480 with 1 Axes>"
            ]
          },
          "metadata": {},
          "output_type": "display_data"
        }
      ],
      "source": [
        "# Plot out the Loss and iteration diagram\n",
        "\n",
        "plt.plot(LOSS)\n",
        "plt.xlabel(\"Iterations \")\n",
        "plt.ylabel(\"Cost/total loss \")"
      ]
    },
    {
      "cell_type": "markdown",
      "id": "88187945-cf55-4612-8a68-1629f70d012e",
      "metadata": {},
      "source": [
        "<h3>Practice</h3>\n"
      ]
    },
    {
      "cell_type": "markdown",
      "id": "35d23eb1-79de-4940-a9cd-56381e1f9dda",
      "metadata": {},
      "source": [
        "Create a new <code>model1</code>. Train the model with a batch size 30 and learning rate 0.1, store the loss or total cost in a list <code>LOSS1</code>, and plot the results.\n"
      ]
    },
    {
      "cell_type": "code",
      "execution_count": 13,
      "id": "dce2a749-4827-4c1f-98ec-98b4ec33dc65",
      "metadata": {},
      "outputs": [],
      "source": [
        "# Practice create model1. Train the model with batch size 30 and learning rate 0.1, store the loss in a list <code>LOSS1</code>. Plot the results.\n",
        "\n",
        "data_set = Data2D()"
      ]
    },
    {
      "cell_type": "markdown",
      "id": "81a40370-ecaf-4e6d-b200-286a29e38b7a",
      "metadata": {},
      "source": [
        "Double-click <b>here</b> for the solution.\n",
        "\n",
        "<!-- Your answer is below:\n",
        "train_loader = DataLoader(dataset = data_set, batch_size = 30)\n",
        "model1 = linear_regression(2, 1)\n",
        "optimizer = optim.SGD(model1.parameters(), lr = 0.1)\n",
        "LOSS1 = []\n",
        "epochs = 100\n",
        "def train_model(epochs):    \n",
        "    for epoch in range(epochs):\n",
        "        for x,y in train_loader:\n",
        "            yhat = model1(x)\n",
        "            loss = criterion(yhat,y)\n",
        "            LOSS1.append(loss.item())\n",
        "            optimizer.zero_grad()\n",
        "            loss.backward()\n",
        "            optimizer.step()     \n",
        "train_model(epochs)\n",
        "Plot_2D_Plane(model1 , data_set)  \n",
        "plt.plot(LOSS1)\n",
        "plt.xlabel(\"iterations \")\n",
        "plt.ylabel(\"Cost/total loss \")\n",
        "-->\n"
      ]
    },
    {
      "cell_type": "markdown",
      "id": "57e65454-4780-4015-86d0-b762fcd7d4d0",
      "metadata": {},
      "source": [
        "Use the following validation data to calculate the total loss or cost for both models:\n"
      ]
    },
    {
      "cell_type": "code",
      "execution_count": 14,
      "id": "fa492a3f-bf04-41d9-89f7-2f7df200a9f4",
      "metadata": {},
      "outputs": [],
      "source": [
        "torch.manual_seed(2)\n",
        "\n",
        "validation_data = Data2D()\n",
        "Y = validation_data.y\n",
        "X = validation_data.x"
      ]
    },
    {
      "cell_type": "markdown",
      "metadata": {},
      "source": [
        "## About the Author:\n",
        "\n",
        "Hi, My name is Juma Shafara. Am a Data Scientist and Instructor at DATAIDEA. I have taught hundreds of peope Programming, Data Analysis and Machine Learning.\n",
        "\n",
        "I also enjoy developing innovative algorithms and models that can drive insights and value.\n",
        "\n",
        "I regularly share some content that I find useful throughout my learning/teaching journey to simplify concepts in Machine Learning, Mathematics, Programming, and related topics on my website [jumashafara.dataidea.org](https://jumashafara.dataidea.org).\n",
        "\n",
        "Besides these technical stuff, I enjoy watching soccer, movies and reading mystery books.\n"
      ]
    },
    {
      "cell_type": "markdown",
      "metadata": {},
      "source": [
        "<h2>What's on your mind? Put it in the comments!</h2>\n",
        "<script src=\"https://utteranc.es/client.js\"\n",
        "        repo=\"dataideaorg/dataidea-science\"\n",
        "        issue-term=\"pathname\"\n",
        "        theme=\"github-light\"\n",
        "        crossorigin=\"anonymous\"\n",
        "        async>\n",
        "</script>\n"
      ]
    }
  ],
  "metadata": {
    "kernelspec": {
      "display_name": "base",
      "language": "python",
      "name": "python3"
    },
    "language_info": {
      "codemirror_mode": {
        "name": "ipython",
        "version": 3
      },
      "file_extension": ".py",
      "mimetype": "text/x-python",
      "name": "python",
      "nbconvert_exporter": "python",
      "pygments_lexer": "ipython3",
      "version": "3.12.3"
    }
  },
  "nbformat": 4,
  "nbformat_minor": 4
}
