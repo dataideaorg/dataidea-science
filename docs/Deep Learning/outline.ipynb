{
 "cells": [
  {
   "cell_type": "markdown",
   "id": "1ef7a319",
   "metadata": {},
   "source": [
    "---\n",
    "title: Pytorch Deep Learning Outline\n",
    "author: Juma Shafara\n",
    "date: \"2023-11\"\n",
    "keywords: [data science, data analysis, programming, dataidea]\n",
    "description: Programming for Data Science is a subject we’ve designed to explore the various programming components of data science.\n",
    "---"
   ]
  },
  {
   "cell_type": "markdown",
   "id": "375341dc",
   "metadata": {},
   "source": [
    "![Photo by DATAIDEA](../../assets/banner4.png)"
   ]
  },
  {
   "cell_type": "markdown",
   "id": "b5c2d681",
   "metadata": {},
   "source": [
    "<!-- Newsletter -->\n",
    "<div class=\"newsletter\">\n",
    "<div class=\"newsletter-heading\">\n",
    "<h4><i class=\"bi bi-info-circle-fill\"></i> Don't Miss Any Updates!</h4>\n",
    "</div>\n",
    "<div class=\"newsletter-body\">\n",
    "<p>\n",
    "Before we continue, we have a humble request, to be among the first to hear about future updates of the course materials, simply enter your email below, follow us on <a href=\"https://x.com/dataideaorg\"><i class=\"bi bi-twitter-x\"></i>\n",
    "(formally Twitter)</a>, or subscribe to our <a href=\"https://www.youtube.com/@dataidea-science\"><i class=\"bi bi-youtube\"></i> YouTube channel</a>.\n",
    "</p>\n",
    "<iframe class=\"newsletter-frame\" src=\"https://embeds.beehiiv.com/5fc7c425-9c7e-4e08-a514-ad6c22beee74?slim=true\" data-test-id=\"beehiiv-embed\" height=\"52\" frameborder=\"0\" scrolling=\"no\">\n",
    "</iframe>\n",
    "</div>\n",
    "</div>"
   ]
  },
  {
   "cell_type": "markdown",
   "id": "32114775-ed3b-45b3-88f1-5e40458cdba2",
   "metadata": {},
   "source": [
    "## Week 1: Tensors and Datasets [<i class=\"bi bi-box-arrow-up-right\" title=\"Get Started\"></i>](./Week1-Tensors-Datasets/1.1_1Dtensors_v2.ipynb)\n",
    "- 1 Dimension Tensors\n",
    "- Two Dimension Tensors\n",
    "- Derivatives and Graphs in PyTorch\n",
    "- Simple Dataset\n",
    "- Pre Built Datasets\n",
    "\n",
    "[Get Started <i class=\"bi bi-box-arrow-up-right\"></i>](./Week1-Tensors-Datasets/1.1_1Dtensors_v2.ipynb)"
   ]
  },
  {
   "cell_type": "markdown",
   "id": "afc4d45d-90a6-43fe-a1e9-53c36b37db09",
   "metadata": {},
   "source": [
    "## Week 2: Linear Regression [<i class=\"bi bi-box-arrow-up-right\" title=\"Get Started\"></i>](./Week2-Linear-Regression/2.1Prediction1Dregression_v3.ipynb)\n",
    "- Linear Regression 1 Dimension\n",
    "- Linear Regression with 1 Parameter\n",
    "- Training Slope and Bias\n",
    "\n",
    "[Get Started <i class=\"bi bi-box-arrow-up-right\"></i>](./Week2-Linear-Regression/2.1Prediction1Dregression_v3.ipynb)"
   ]
  },
  {
   "cell_type": "markdown",
   "id": "444e904b-576f-4167-bcfb-7c2b7181ccd0",
   "metadata": {},
   "source": [
    "## Week 3: Linear Regression in PyTorch [<i class=\"bi bi-box-arrow-up-right\" title=\"Get Started\"></i>](./Week3-LR-PyTorch/3.1_stochastic_gradient_descent_v3.ipynb)\n",
    "- Stochastic Gradient Descent\n",
    "- Mini-Batch Gradient Descent\n",
    "- PyTorch Build-in Functions\n",
    "- Training and Validation Sets\n",
    "\n",
    "[Get Started <i class=\"bi bi-box-arrow-up-right\"></i>](./Week3-LR-PyTorch/3.1_stochastic_gradient_descent_v3.ipynb)"
   ]
  },
  {
   "cell_type": "markdown",
   "id": "1a4267ee-7b0f-420d-a2dc-017263a5682e",
   "metadata": {},
   "source": [
    "## Week 4: Multiple Input Linear Regression [<i class=\"bi bi-box-arrow-up-right\" title=\"Get Started\"></i>](./Week4-Multiple-Input-LR/4.1.multiple_linear_regression_prediction_v2.ipynb)\n",
    "- Making Predictions in Multiple Linear Regression\n",
    "- Training a Multiple Linear Regression Models\n",
    "- Multi-Target Linear Regression\n",
    "- Training Multiple Output Linear Regression Models\n",
    "\n",
    "[Get Started <i class=\"bi bi-box-arrow-up-right\"></i>](./Week4-Multiple-Input-LR/4.1.multiple_linear_regression_prediction_v2.ipynb)"
   ]
  },
  {
   "cell_type": "markdown",
   "id": "bed1721d-42f0-4ae6-acfe-eba537db19f4",
   "metadata": {},
   "source": [
    "## Week 5: Logistic Regression [<i class=\"bi bi-box-arrow-up-right\" title=\"Get Started\"></i>](./Week5-Logistic-Regression/5.1logistic_regression_prediction_v2.ipynb)\n",
    "- Making Predictions in Multiple Linear Regression\n",
    "- Logistic Regression and Bad Initialization Values\n",
    "- Cross Entropy Loss Function\n",
    "- Sofmax Activation in 1 Dimension\n",
    "\n",
    "[Get Started <i class=\"bi bi-box-arrow-up-right\"></i>](./Week5-Logistic-Regression/5.1logistic_regression_prediction_v2.ipynb)"
   ]
  },
  {
   "cell_type": "markdown",
   "id": "b658d0c5-dde9-48ea-a715-58a4b2303c50",
   "metadata": {},
   "source": [
    "## Week 6: Practice [<i class=\"bi bi-box-arrow-up-right\" title=\"Get Started\"></i>](./Week6-Visualization2/62_seaborn_part1.ipynb)\n",
    "- Practice"
   ]
  },
  {
   "cell_type": "markdown",
   "id": "67725944-e59b-4bff-8fcd-8d6e49686ee2",
   "metadata": {},
   "source": [
    "## Week 7: Shallow Neural Networks [<i class=\"bi bi-box-arrow-up-right\" title=\"Get Started\"></i>](./Week7-Shallow-Networks/7.1_simple1hiddenlayer.ipynb)\n",
    "- Simple One Hidden Layer\n",
    "- Multiple Neurons\n",
    "- Noisy XO\n",
    "- One Layer Neural Network\n",
    "- Activation Functions\n",
    "- Test Activation Functions\n",
    "\n",
    "[Get Started <i class=\"bi bi-box-arrow-up-right\"></i>](./Week7-Shallow-Networks/7.1_simple1hiddenlayer.ipynb)"
   ]
  },
  {
   "cell_type": "markdown",
   "id": "8583a7d1-0da1-496c-a52a-e8370cad6b04",
   "metadata": {},
   "source": [
    "## Week 8: Deep Neural Networks [<i class=\"bi bi-box-arrow-up-right\" title=\"Get Started\"></i>](./Week8-Deep-Networks/8.1.1mist2layer_v2.ipynb)\n",
    "- Multiple Linear Regression\n",
    "- Deeper Neural Networks with nn.ModuleList()\n",
    "- Using Dropout for Classification\n",
    "- Neural Networks with Momentum\n",
    "\n",
    "[Get Started <i class=\"bi bi-box-arrow-up-right\"></i>](./Week8-Deep-Networks/8.1.1mist2layer_v2.ipynb)"
   ]
  },
  {
   "cell_type": "markdown",
   "id": "c0394821-5d82-4d69-bf57-7cf9c943ea3d",
   "metadata": {},
   "source": [
    "## Week 9: Convolution Neural Networks [<i class=\"bi bi-box-arrow-up-right\" title=\"Get Started\"></i>](./Week9-CNNs/9.1What_is_Convolution.ipynb)\n",
    "- What is Convolution\n",
    "- Activatioin Function and Max Pooling\n",
    "- Multiple Channel Convolutional Neural Network\n",
    "- Convolutional Neural Network with Batch Normalization\n",
    "[Get Started <i class=\"bi bi-box-arrow-up-right\"></i>](./Week9-CNNs/9.1What_is_Convolution.ipynb)"
   ]
  },
  {
   "cell_type": "markdown",
   "id": "41d09a33-15b1-4ae8-9c53-af780418ae70",
   "metadata": {},
   "source": [
    "## Week X: Capstone Project and Review\n",
    "- Applying learned concepts to a real-world dataset"
   ]
  }
 ],
 "metadata": {
  "kernelspec": {
   "display_name": "Python 3 (ipykernel)",
   "language": "python",
   "name": "python3"
  },
  "language_info": {
   "codemirror_mode": {
    "name": "ipython",
    "version": 3
   },
   "file_extension": ".py",
   "mimetype": "text/x-python",
   "name": "python",
   "nbconvert_exporter": "python",
   "pygments_lexer": "ipython3",
   "version": "3.13.0"
  }
 },
 "nbformat": 4,
 "nbformat_minor": 5
}
