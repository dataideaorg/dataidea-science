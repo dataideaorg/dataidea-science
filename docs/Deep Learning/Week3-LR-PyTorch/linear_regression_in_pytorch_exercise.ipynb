{
  "cells": [
    {
      "cell_type": "markdown",
      "metadata": {},
      "source": [
        "---\n",
        "title: Linear Regression (PyTorch) Exercise\n",
        "author: Juma Shafara\n",
        "date: \"2024-08-29\"\n",
        "keywords: [data science, data analysis, programming, dataidea]\n",
        "description: Programming for Data Science is a subject we’ve designed to explore the various programming components of data science.\n",
        "---"
      ]
    },
    {
      "cell_type": "markdown",
      "metadata": {},
      "source": [
        "![Photo by DATAIDEA](../../assets/banner4.png)"
      ]
    },
    {
      "cell_type": "markdown",
      "metadata": {},
      "source": [
        "\n",
        "## Week 3: Linear Regression in PyTorch (4 Questions)\n",
        "\n",
        "### 1. **Stochastic Gradient Descent**\n",
        "   - **Exercise:** Implement a linear regression model using stochastic gradient descent (SGD) on a synthetic dataset. Plot the loss curve to show convergence over iterations.\n",
        "\n",
        "### 2. **Mini-Batch Gradient Descent**\n",
        "   - **Exercise:** Modify your SGD implementation to use mini-batch gradient descent. Train the model on a dataset with mini-batches and compare the performance with the full-batch SGD approach.\n",
        "\n",
        "### 3. **PyTorch Built-in Functions**\n",
        "   - **Exercise:** Use PyTorch's built-in functions (`torch.nn.Linear`, `torch.optim.SGD`) to build and train a linear regression model. Compare the results with your previous implementations.\n",
        "\n",
        "   <!-- Newsletter -->\n",
        "<div class=\"newsletter\">\n",
        "<div class=\"newsletter-heading\">\n",
        "<h4><i class=\"bi bi-info-circle-fill\"></i> Don't Miss Any Updates!</h4>\n",
        "</div>\n",
        "<div class=\"newsletter-body\">\n",
        "<p>\n",
        "Before the last question, I have a humble request, to be among the first to hear about future updates of the course materials, simply enter your email below, follow us on <a href=\"https://x.com/dataideaorg\"><i class=\"bi bi-twitter-x\"></i>\n",
        "(formally Twitter)</a>, or subscribe to our <a href=\"https://www.youtube.com/@dataidea-science\"><i class=\"bi bi-youtube\"></i> YouTube channel</a>.\n",
        "</p>\n",
        "<iframe class=\"newsletter-frame\" src=\"https://embeds.beehiiv.com/5fc7c425-9c7e-4e08-a514-ad6c22beee74?slim=true\" data-test-id=\"beehiiv-embed\" height=\"52\" frameborder=\"0\" scrolling=\"no\">\n",
        "</iframe>\n",
        "</div>\n",
        "</div>\n",
        "\n",
        "### 4. **Training and Validation Sets**\n",
        "   - **Exercise:** Split your dataset into training and validation sets. Train a linear regression model on the training set and evaluate its performance on the validation set. Plot the training and validation loss over epochs."
      ]
    },
    {
      "cell_type": "markdown",
      "metadata": {},
      "source": [
        "<h2>What's on your mind? Put it in the comments!</h2>\n",
        "<script src=\"https://utteranc.es/client.js\"\n",
        "        repo=\"dataideaorg/dataidea-science\"\n",
        "        issue-term=\"pathname\"\n",
        "        theme=\"github-light\"\n",
        "        crossorigin=\"anonymous\"\n",
        "        async>\n",
        "</script>"
      ]
    }
  ],
  "metadata": {
    "language_info": {
      "name": "python"
    }
  },
  "nbformat": 4,
  "nbformat_minor": 2
}
