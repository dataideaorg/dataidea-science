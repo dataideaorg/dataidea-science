{
  "cells": [
    {
      "cell_type": "markdown",
      "metadata": {},
      "source": [
        "---\n",
        "title: Linear Regression Exercise\n",
        "author: Juma Shafara\n",
        "date: \"2024-08-29\"\n",
        "keywords: [data science, data analysis, programming, dataidea]\n",
        "description: Programming for Data Science is a subject we’ve designed to explore the various programming components of data science.\n",
        "---"
      ]
    },
    {
      "cell_type": "markdown",
      "metadata": {},
      "source": [
        "![Photo by DATAIDEA](../../assets/banner4.png)"
      ]
    },
    {
      "cell_type": "markdown",
      "metadata": {},
      "source": [
        "## Week 2: Linear Regression (3 Questions)\n",
        "\n",
        "### 1. **Linear Regression 1 Dimension**\n",
        "   - **Exercise:** Implement a simple linear regression model to fit a line to 1D data points generated as `(x, y) = (x, 3x + 7 + noise)`. Visualize the data and the fitted line.\n",
        "\n",
        "### 2. **Linear Regression with 1 Parameter**\n",
        "   - **Exercise:** Create a linear regression model with a single parameter. Train the model on a dataset with a known linear relationship, and evaluate the model’s performance by plotting the predicted vs. actual values.\n",
        "\n",
        "<!-- Newsletter -->\n",
        "<div class=\"newsletter\">\n",
        "<div class=\"newsletter-heading\">\n",
        "<h4><i class=\"bi bi-info-circle-fill\"></i> Don't Miss Any Updates!</h4>\n",
        "</div>\n",
        "<div class=\"newsletter-body\">\n",
        "<p>\n",
        "Before the last question, I have a humble request, to be among the first to hear about future updates of the course materials, simply enter your email below, follow us on <a href=\"https://x.com/dataideaorg\"><i class=\"bi bi-twitter-x\"></i>\n",
        "(formally Twitter)</a>, or subscribe to our <a href=\"https://www.youtube.com/@dataidea-science\"><i class=\"bi bi-youtube\"></i> YouTube channel</a>.\n",
        "</p>\n",
        "<iframe class=\"newsletter-frame\" src=\"https://embeds.beehiiv.com/5fc7c425-9c7e-4e08-a514-ad6c22beee74?slim=true\" data-test-id=\"beehiiv-embed\" height=\"52\" frameborder=\"0\" scrolling=\"no\">\n",
        "</iframe>\n",
        "</div>\n",
        "</div>\n",
        "\n",
        "### 3. **Training Slope and Bias**\n",
        "   - **Exercise:** Implement a linear regression model from scratch to learn the slope and bias for the dataset `(x, y) = (x, 4x + 10 + noise)`. Compare the learned parameters with the true values.\n"
      ]
    },
    {
      "cell_type": "markdown",
      "metadata": {},
      "source": [
        "<h2>What's on your mind? Put it in the comments!</h2>\n",
        "<script src=\"https://utteranc.es/client.js\"\n",
        "        repo=\"dataideaorg/dataidea-science\"\n",
        "        issue-term=\"pathname\"\n",
        "        theme=\"github-light\"\n",
        "        crossorigin=\"anonymous\"\n",
        "        async>\n",
        "</script>"
      ]
    }
  ],
  "metadata": {
    "language_info": {
      "name": "python"
    }
  },
  "nbformat": 4,
  "nbformat_minor": 2
}
